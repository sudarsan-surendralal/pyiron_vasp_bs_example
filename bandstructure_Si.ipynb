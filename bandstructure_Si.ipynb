{
 "cells": [
  {
   "cell_type": "markdown",
   "id": "fe8d592a-9ec8-4c40-bfbf-a8b618b44a27",
   "metadata": {},
   "source": [
    "# VASP with pyiron: Bandstructure of Si using hybrid functionals\n",
    "\n",
    "\n",
    "This notebook aims to reproduce the VASP manual [tutorial](https://www.vasp.at/wiki/index.php/Si_bandstructure) of the calculation of the band structure of Si using GGA and the HSE06 potentials"
   ]
  },
  {
   "cell_type": "code",
   "execution_count": 1,
   "id": "3d0d3f64-aebd-43b5-ae58-397445b707dc",
   "metadata": {},
   "outputs": [],
   "source": [
    "from pyiron_atomistics import Project\n",
    "import matplotlib.pyplot as plt\n",
    "import seekpath as sp\n",
    "import numpy as np"
   ]
  },
  {
   "cell_type": "code",
   "execution_count": 2,
   "id": "6ebe93d8-7ff9-4aa3-b737-564899f68456",
   "metadata": {},
   "outputs": [],
   "source": [
    "pr = Project(\"Si_bandstructure\")"
   ]
  },
  {
   "cell_type": "code",
   "execution_count": 3,
   "id": "a8eddc8a-2eee-45ea-ab12-2d7257b6d25a",
   "metadata": {},
   "outputs": [],
   "source": [
    "structure_Si = pr.create_ase_bulk(\"Si\", a=5.43)"
   ]
  },
  {
   "cell_type": "code",
   "execution_count": 4,
   "id": "00c6980d-14ea-4d51-aea0-7a616f276078",
   "metadata": {},
   "outputs": [
    {
     "data": {
      "text/plain": [
       "Si: [0. 0. 0.]\n",
       "Si: [1.3575 1.3575 1.3575]\n",
       "pbc: [ True  True  True]\n",
       "cell: \n",
       "Cell([[0.0, 2.715, 2.715], [2.715, 0.0, 2.715], [2.715, 2.715, 0.0]])"
      ]
     },
     "execution_count": 4,
     "metadata": {},
     "output_type": "execute_result"
    }
   ],
   "source": [
    "structure_Si"
   ]
  },
  {
   "cell_type": "code",
   "execution_count": 5,
   "id": "6f31f9c2-6d93-4db3-9892-0d41da48b7d0",
   "metadata": {},
   "outputs": [],
   "source": [
    "input_sp = (structure_Si.cell, structure_Si.get_scaled_positions(), structure_Si.indices)"
   ]
  },
  {
   "cell_type": "code",
   "execution_count": 6,
   "id": "da1eb329-c61b-460f-a343-99ff9b1715d0",
   "metadata": {},
   "outputs": [],
   "source": [
    "structure_Si_sp = structure_Si.create_line_mode_structure()"
   ]
  },
  {
   "cell_type": "code",
   "execution_count": 7,
   "id": "39f3a10b-5981-42c7-b5ce-ac3c1eb6e04a",
   "metadata": {},
   "outputs": [
    {
     "data": {
      "text/plain": [
       "{'full': [('GAMMA', 'X'),\n",
       "  ('X', 'U'),\n",
       "  ('K', 'GAMMA'),\n",
       "  ('GAMMA', 'L'),\n",
       "  ('L', 'W'),\n",
       "  ('W', 'X')]}"
      ]
     },
     "execution_count": 7,
     "metadata": {},
     "output_type": "execute_result"
    }
   ],
   "source": [
    "structure_Si_sp.get_high_symmetry_path()"
   ]
  },
  {
   "cell_type": "markdown",
   "id": "ebedcf12-cfc4-452f-b012-13101a81ae73",
   "metadata": {},
   "source": [
    "## Bandstructure GGA"
   ]
  },
  {
   "cell_type": "code",
   "execution_count": 8,
   "id": "151de382-e017-4505-b578-677354a225b7",
   "metadata": {},
   "outputs": [],
   "source": [
    "def setup_hamiltonian_vasp(project, jobname, structure, chgcar_file=\"\"): \n",
    "\n",
    "    ham = project.create_job(job_type='Vasp', job_name=jobname)\n",
    "    ham.exchange_correlation_functional = 'PBE'\n",
    "    ham.structure = structure\n",
    "\n",
    "    ham.set_encut(450)\n",
    "    ham.set_empty_states(6)\n",
    "    ham.set_convergence_precision(electronic_energy=1e-8)\n",
    "    ham.set_occupancy_smearing(\"gaussian\", width=0.01)\n",
    "          \n",
    "    #parameter für kpoints\n",
    "    ham.set_kpoints([4, 4, 4])    \n",
    "    # Write the wave functions\n",
    "    ham.write_wave_funct = True\n",
    "    return ham"
   ]
  },
  {
   "cell_type": "code",
   "execution_count": 9,
   "id": "3111c28c-1c81-406e-878c-7c7917563de0",
   "metadata": {},
   "outputs": [],
   "source": [
    "job_scf = setup_hamiltonian_vasp(pr, \"Si_scf\", structure_Si_sp)"
   ]
  },
  {
   "cell_type": "code",
   "execution_count": 10,
   "id": "f1b91102-3aa4-4f9c-b4d2-44794f4f172b",
   "metadata": {},
   "outputs": [
    {
     "name": "stderr",
     "output_type": "stream",
     "text": [
      "2022-02-25 09:56:28,383 - pyiron_log - WARNING - The job Si_scf is being loaded instead of running. To re-run use the argument 'delete_existing_job=True in create_job'\n"
     ]
    }
   ],
   "source": [
    "job_scf.run()"
   ]
  },
  {
   "cell_type": "code",
   "execution_count": 11,
   "id": "e77ca596-ae05-45f5-88f6-75a7d657e419",
   "metadata": {},
   "outputs": [],
   "source": [
    "job_bs = job_scf.restart_for_band_structure_calculations(job_name=\"Si_BS\")"
   ]
  },
  {
   "cell_type": "code",
   "execution_count": 12,
   "id": "b2413f27-8608-462a-9979-c3f4eb7bc6c9",
   "metadata": {},
   "outputs": [],
   "source": [
    "n_path = 50 # Number of points between each special k-point\n",
    "\n",
    "job_bs.set_kpoints(scheme=\"Line\", path_name=\"full\", n_path=n_path)"
   ]
  },
  {
   "cell_type": "code",
   "execution_count": 13,
   "id": "adbc5997-1778-4b7d-a101-3003d039459e",
   "metadata": {},
   "outputs": [
    {
     "name": "stderr",
     "output_type": "stream",
     "text": [
      "2022-02-25 09:56:28,964 - pyiron_log - WARNING - The job Si_BS is being loaded instead of running. To re-run use the argument 'delete_existing_job=True in create_job'\n"
     ]
    }
   ],
   "source": [
    "job_bs.run()"
   ]
  },
  {
   "cell_type": "markdown",
   "id": "0132c588-8e7c-4d12-bc27-bf3f34a647e6",
   "metadata": {},
   "source": [
    "## Bandstructure HSE06"
   ]
  },
  {
   "cell_type": "code",
   "execution_count": 14,
   "id": "d124b67a-6096-4765-97d7-51733c73605c",
   "metadata": {},
   "outputs": [],
   "source": [
    "k_weights_scf = job_scf[\"output/electronic_structure/k_weights\"]\n",
    "k_points_scf = job_scf[\"output/electronic_structure/k_points\"]\n",
    "k_points_bs = job_bs[\"output/electronic_structure/k_points\"]"
   ]
  },
  {
   "cell_type": "code",
   "execution_count": 15,
   "id": "8df2218b-61a3-4e50-881d-aad1d508250c",
   "metadata": {},
   "outputs": [],
   "source": [
    "input_kpoints = np.append(k_points_scf, k_points_bs, axis=0)\n",
    "input_kweights = np.append(k_weights_scf, np.zeros(len(k_points_bs)))\n"
   ]
  },
  {
   "cell_type": "code",
   "execution_count": 16,
   "id": "7495fd0d-4a2f-42a5-a5f8-64c69c7860e4",
   "metadata": {},
   "outputs": [],
   "source": [
    "job_bs_hse = job_scf.restart_from_wave_functions(job_name=\"Si_BS_HSE\")"
   ]
  },
  {
   "cell_type": "code",
   "execution_count": 17,
   "id": "e37c8900-919d-4f35-a2a2-15bda8c6942d",
   "metadata": {},
   "outputs": [],
   "source": [
    "job_bs_hse.set_kpoints(scheme=\"Manual\", manual_kpoints=input_kpoints, weights=input_kweights)"
   ]
  },
  {
   "cell_type": "code",
   "execution_count": 18,
   "id": "ccbbda3c-c348-4d2a-b6d4-a3e2f24e2b26",
   "metadata": {},
   "outputs": [],
   "source": [
    "# HSE06 parameters\n",
    "\n",
    "job_bs_hse.input.incar[\"LHFCALC\"] = True\n",
    "job_bs_hse.input.incar[\"HFSCREEN\"] = 0.2\n",
    "job_bs_hse.input.incar[\"AEXX\"] = 0.25\n",
    "job_bs_hse.input.incar[\"ALGO\"] = \"D\" \n",
    "job_bs_hse.input.incar[\"TIME\"] = 0.4\n",
    "job_bs_hse.input.incar[\"LDIAG\"] = True"
   ]
  },
  {
   "cell_type": "code",
   "execution_count": 19,
   "id": "a832b275-fd57-40c7-a5f0-efb245af011a",
   "metadata": {},
   "outputs": [],
   "source": [
    "job_bs_hse.server.cores = 40\n",
    "job_bs_hse.server.queue = \"cm\""
   ]
  },
  {
   "cell_type": "code",
   "execution_count": 20,
   "id": "bb1cf70c-1932-49a6-9705-2e12716aa1a8",
   "metadata": {},
   "outputs": [
    {
     "name": "stderr",
     "output_type": "stream",
     "text": [
      "2022-02-25 09:56:29,622 - pyiron_log - WARNING - The job Si_BS_HSE is being loaded instead of running. To re-run use the argument 'delete_existing_job=True in create_job'\n"
     ]
    }
   ],
   "source": [
    "job_bs_hse.run()"
   ]
  },
  {
   "cell_type": "code",
   "execution_count": 21,
   "id": "30686a0d-ee44-4093-b59f-20a2934cc6eb",
   "metadata": {},
   "outputs": [
    {
     "data": {
      "text/plain": [
       "'finished'"
      ]
     },
     "execution_count": 21,
     "metadata": {},
     "output_type": "execute_result"
    }
   ],
   "source": [
    "job_bs_hse.status"
   ]
  },
  {
   "cell_type": "code",
   "execution_count": 22,
   "id": "6cc42314-ee46-4004-abb0-1576cb5c12ef",
   "metadata": {},
   "outputs": [
    {
     "data": {
      "image/png": "[encoded data removed]",
      "text/plain": [
       "<Figure size 432x288 with 2 Axes>"
      ]
     },
     "metadata": {
      "needs_background": "light"
     },
     "output_type": "display_data"
    }
   ],
   "source": [
    "\n",
    "if job_bs_hse.status.finished:\n",
    "    fig, ax_list = plt.subplots(ncols=2, nrows=1, sharey=True)\n",
    "\n",
    "    fermi_level = job_scf['output/electronic_structure/efermi']\n",
    "    eig_gga = job_bs['output/electronic_structure/eig_matrix'] - fermi_level\n",
    "    eig_hse06 = job_bs_hse['output/electronic_structure/eig_matrix'] - fermi_level\n",
    "\n",
    "    # Only include the kpoints and bands we want\n",
    "    eig_hse06 = eig_hse06[:, len(k_points_scf):, :eig_gga.shape[2]]\n",
    "\n",
    "    path = [val[0] if val[0] != \"GAMMA\" else \"$\\mathrm{\\Gamma}$\" for val in job_bs.structure.get_high_symmetry_path()[\"full\"] ]\n",
    "\n",
    "    labels = {\"PBE\": eig_gga, \"HSE06\": eig_hse06}\n",
    "\n",
    "    for i, (xc, eig) in enumerate(labels.items()):\n",
    "        ax = ax_list[i]\n",
    "        ax.plot(eig[0], 'b-')\n",
    "        ax.axhline(y=0, ls='--', c='k')\n",
    "\n",
    "        ax.set_title(f\"XC functional: {xc}\")\n",
    "\n",
    "        ax.set_xticks([n * 50 for n in range(len(path))])\n",
    "        ax.set_xticklabels(path)\n",
    "\n",
    "    ax_list[0].set_ylabel(\"Energy [eV]\")\n",
    "    fig.subplots_adjust(wspace=0.1);"
   ]
  },
  {
   "cell_type": "code",
   "execution_count": 23,
   "id": "d051957a-c16c-43eb-90a6-ee3c42e06ed0",
   "metadata": {},
   "outputs": [
    {
     "data": {
      "text/html": [
       "<div>\n",
       "<style scoped>\n",
       "    .dataframe tbody tr th:only-of-type {\n",
       "        vertical-align: middle;\n",
       "    }\n",
       "\n",
       "    .dataframe tbody tr th {\n",
       "        vertical-align: top;\n",
       "    }\n",
       "\n",
       "    .dataframe thead th {\n",
       "        text-align: right;\n",
       "    }\n",
       "</style>\n",
       "<table border=\"1\" class=\"dataframe\">\n",
       "  <thead>\n",
       "    <tr style=\"text-align: right;\">\n",
       "      <th></th>\n",
       "      <th>id</th>\n",
       "      <th>status</th>\n",
       "      <th>chemicalformula</th>\n",
       "      <th>job</th>\n",
       "      <th>subjob</th>\n",
       "      <th>projectpath</th>\n",
       "      <th>project</th>\n",
       "      <th>timestart</th>\n",
       "      <th>timestop</th>\n",
       "      <th>totalcputime</th>\n",
       "      <th>computer</th>\n",
       "      <th>hamilton</th>\n",
       "      <th>hamversion</th>\n",
       "      <th>parentid</th>\n",
       "      <th>masterid</th>\n",
       "    </tr>\n",
       "  </thead>\n",
       "  <tbody>\n",
       "    <tr>\n",
       "      <th>2</th>\n",
       "      <td>16683765</td>\n",
       "      <td>finished</td>\n",
       "      <td>Si2</td>\n",
       "      <td>Si_scf</td>\n",
       "      <td>/Si_scf</td>\n",
       "      <td>/cmmc/u/</td>\n",
       "      <td>chandu/projects_2022/development/Si_bandstructure/</td>\n",
       "      <td>2022-02-24 19:19:15.678678</td>\n",
       "      <td>2022-02-24 19:19:19.700419</td>\n",
       "      <td>4.0</td>\n",
       "      <td>chandu@cmti001#1</td>\n",
       "      <td>Vasp</td>\n",
       "      <td>5.4.4</td>\n",
       "      <td>NaN</td>\n",
       "      <td>None</td>\n",
       "    </tr>\n",
       "    <tr>\n",
       "      <th>0</th>\n",
       "      <td>16683766</td>\n",
       "      <td>finished</td>\n",
       "      <td>Si2</td>\n",
       "      <td>Si_BS</td>\n",
       "      <td>/Si_BS</td>\n",
       "      <td>/cmmc/u/</td>\n",
       "      <td>chandu/projects_2022/development/Si_bandstructure/</td>\n",
       "      <td>2022-02-24 19:19:21.460375</td>\n",
       "      <td>2022-02-24 19:19:52.284120</td>\n",
       "      <td>30.0</td>\n",
       "      <td>chandu@cmti001#1</td>\n",
       "      <td>Vasp</td>\n",
       "      <td>5.4.4</td>\n",
       "      <td>16683765.0</td>\n",
       "      <td>None</td>\n",
       "    </tr>\n",
       "    <tr>\n",
       "      <th>1</th>\n",
       "      <td>16683768</td>\n",
       "      <td>finished</td>\n",
       "      <td>Si2</td>\n",
       "      <td>Si_BS_HSE</td>\n",
       "      <td>/Si_BS_HSE</td>\n",
       "      <td>/cmmc/u/</td>\n",
       "      <td>chandu/projects_2022/development/Si_bandstructure/</td>\n",
       "      <td>2022-02-24 19:27:36.409046</td>\n",
       "      <td>2022-02-25 02:22:53.000556</td>\n",
       "      <td>24916.0</td>\n",
       "      <td>chandu@cmti001#40#cm</td>\n",
       "      <td>Vasp</td>\n",
       "      <td>5.4.4_mpi</td>\n",
       "      <td>16683765.0</td>\n",
       "      <td>None</td>\n",
       "    </tr>\n",
       "  </tbody>\n",
       "</table>\n",
       "</div>"
      ],
      "text/plain": [
       "         id    status chemicalformula        job      subjob projectpath  \\\n",
       "2  16683765  finished             Si2     Si_scf     /Si_scf    /cmmc/u/   \n",
       "0  16683766  finished             Si2      Si_BS      /Si_BS    /cmmc/u/   \n",
       "1  16683768  finished             Si2  Si_BS_HSE  /Si_BS_HSE    /cmmc/u/   \n",
       "\n",
       "                                              project  \\\n",
       "2  chandu/projects_2022/development/Si_bandstructure/   \n",
       "0  chandu/projects_2022/development/Si_bandstructure/   \n",
       "1  chandu/projects_2022/development/Si_bandstructure/   \n",
       "\n",
       "                   timestart                   timestop  totalcputime  \\\n",
       "2 2022-02-24 19:19:15.678678 2022-02-24 19:19:19.700419           4.0   \n",
       "0 2022-02-24 19:19:21.460375 2022-02-24 19:19:52.284120          30.0   \n",
       "1 2022-02-24 19:27:36.409046 2022-02-25 02:22:53.000556       24916.0   \n",
       "\n",
       "               computer hamilton hamversion    parentid masterid  \n",
       "2      chandu@cmti001#1     Vasp      5.4.4         NaN     None  \n",
       "0      chandu@cmti001#1     Vasp      5.4.4  16683765.0     None  \n",
       "1  chandu@cmti001#40#cm     Vasp  5.4.4_mpi  16683765.0     None  "
      ]
     },
     "execution_count": 23,
     "metadata": {},
     "output_type": "execute_result"
    }
   ],
   "source": [
    "pr.job_table()"
   ]
  },
  {
   "cell_type": "code",
   "execution_count": null,
   "id": "596c4e5c-94f0-4a86-bec2-afd9ebcbe163",
   "metadata": {},
   "outputs": [],
   "source": []
  }
 ],
 "metadata": {
  "kernelspec": {
   "display_name": "Python 3 (ipykernel)",
   "language": "python",
   "name": "python3"
  },
  "language_info": {
   "codemirror_mode": {
    "name": "ipython",
    "version": 3
   },
   "file_extension": ".py",
   "mimetype": "text/x-python",
   "name": "python",
   "nbconvert_exporter": "python",
   "pygments_lexer": "ipython3",
   "version": "3.8.12"
  }
 },
 "nbformat": 4,
 "nbformat_minor": 5
}
